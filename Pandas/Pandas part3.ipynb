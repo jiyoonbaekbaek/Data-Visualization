{
 "cells": [
  {
   "cell_type": "markdown",
   "metadata": {},
   "source": [
    "# 데이터 가져오기"
   ]
  },
  {
   "cell_type": "code",
   "execution_count": 1,
   "metadata": {},
   "outputs": [],
   "source": [
    "import pandas as pd"
   ]
  },
  {
   "cell_type": "code",
   "execution_count": 2,
   "metadata": {},
   "outputs": [],
   "source": [
    "df=pd.read_csv('/Users/baekjiyoon/Desktop/Python-Tutorials-master/Seaborn Tutorial/flights.csv')"
   ]
  },
  {
   "cell_type": "markdown",
   "metadata": {},
   "source": [
    "## 데이터 크기 확인하기 .shape 속성"
   ]
  },
  {
   "cell_type": "code",
   "execution_count": 3,
   "metadata": {},
   "outputs": [
    {
     "data": {
      "text/plain": [
       "(271888, 10)"
      ]
     },
     "execution_count": 3,
     "metadata": {},
     "output_type": "execute_result"
    }
   ],
   "source": [
    "df.shape"
   ]
  },
  {
   "cell_type": "markdown",
   "metadata": {},
   "source": [
    "## 데이터 정보 확인하기 .info 속성"
   ]
  },
  {
   "cell_type": "code",
   "execution_count": 4,
   "metadata": {},
   "outputs": [
    {
     "data": {
      "text/plain": [
       "<bound method DataFrame.info of         travelCode  userCode                 from                   to  \\\n",
       "0                0         0          Recife (PE)   Florianopolis (SC)   \n",
       "1                0         0   Florianopolis (SC)          Recife (PE)   \n",
       "2                1         0        Brasilia (DF)   Florianopolis (SC)   \n",
       "3                1         0   Florianopolis (SC)        Brasilia (DF)   \n",
       "4                2         0         Aracaju (SE)        Salvador (BH)   \n",
       "...            ...       ...                  ...                  ...   \n",
       "271883      135941      1339    Campo Grande (MS)   Florianopolis (SC)   \n",
       "271884      135942      1339   Florianopolis (SC)           Natal (RN)   \n",
       "271885      135942      1339           Natal (RN)   Florianopolis (SC)   \n",
       "271886      135943      1339   Florianopolis (SC)  Rio de Janeiro (RJ)   \n",
       "271887      135943      1339  Rio de Janeiro (RJ)   Florianopolis (SC)   \n",
       "\n",
       "        flightType    price  time  distance       agency        date  \n",
       "0       firstClass  1434.38  1.76    676.53  FlyingDrops  09/26/2019  \n",
       "1       firstClass  1292.29  1.76    676.53  FlyingDrops  09/30/2019  \n",
       "2       firstClass  1487.52  1.66    637.56      CloudFy  10/03/2019  \n",
       "3       firstClass  1127.36  1.66    637.56      CloudFy  10/04/2019  \n",
       "4       firstClass  1684.05  2.16    830.86      CloudFy  10/10/2019  \n",
       "...            ...      ...   ...       ...          ...         ...  \n",
       "271883  firstClass  1446.34  1.49    573.81      CloudFy  07/12/2020  \n",
       "271884    economic   726.95  1.84    709.37      CloudFy  07/16/2020  \n",
       "271885    economic   873.07  1.84    709.37      CloudFy  07/20/2020  \n",
       "271886    economic   313.62  1.21    466.30      CloudFy  07/23/2020  \n",
       "271887    economic   533.69  1.21    466.30      CloudFy  07/26/2020  \n",
       "\n",
       "[271888 rows x 10 columns]>"
      ]
     },
     "execution_count": 4,
     "metadata": {},
     "output_type": "execute_result"
    }
   ],
   "source": [
    "df.info"
   ]
  },
  {
   "cell_type": "code",
   "execution_count": 5,
   "metadata": {},
   "outputs": [
    {
     "name": "stdout",
     "output_type": "stream",
     "text": [
      "travelCode      int64\n",
      "userCode        int64\n",
      "from           object\n",
      "to             object\n",
      "flightType     object\n",
      "price         float64\n",
      "time          float64\n",
      "distance      float64\n",
      "agency         object\n",
      "date           object\n",
      "dtype: object\n"
     ]
    }
   ],
   "source": [
    "print(df.dtypes)"
   ]
  },
  {
   "cell_type": "markdown",
   "metadata": {},
   "source": [
    "## 데이터를 갖는 열에 대한 주요 기술 통계정보(평균,표준편차 등등) 을 요약하여 출력  : describe 메소드"
   ]
  },
  {
   "cell_type": "code",
   "execution_count": 7,
   "metadata": {},
   "outputs": [
    {
     "data": {
      "text/html": [
       "<div>\n",
       "<style scoped>\n",
       "    .dataframe tbody tr th:only-of-type {\n",
       "        vertical-align: middle;\n",
       "    }\n",
       "\n",
       "    .dataframe tbody tr th {\n",
       "        vertical-align: top;\n",
       "    }\n",
       "\n",
       "    .dataframe thead th {\n",
       "        text-align: right;\n",
       "    }\n",
       "</style>\n",
       "<table border=\"1\" class=\"dataframe\">\n",
       "  <thead>\n",
       "    <tr style=\"text-align: right;\">\n",
       "      <th></th>\n",
       "      <th>travelCode</th>\n",
       "      <th>userCode</th>\n",
       "      <th>price</th>\n",
       "      <th>time</th>\n",
       "      <th>distance</th>\n",
       "    </tr>\n",
       "  </thead>\n",
       "  <tbody>\n",
       "    <tr>\n",
       "      <th>count</th>\n",
       "      <td>271888.000000</td>\n",
       "      <td>271888.000000</td>\n",
       "      <td>271888.00000</td>\n",
       "      <td>271888.000000</td>\n",
       "      <td>271888.000000</td>\n",
       "    </tr>\n",
       "    <tr>\n",
       "      <th>mean</th>\n",
       "      <td>67971.500000</td>\n",
       "      <td>667.505495</td>\n",
       "      <td>957.37503</td>\n",
       "      <td>1.421147</td>\n",
       "      <td>546.955535</td>\n",
       "    </tr>\n",
       "    <tr>\n",
       "      <th>std</th>\n",
       "      <td>39243.724665</td>\n",
       "      <td>389.523127</td>\n",
       "      <td>362.31189</td>\n",
       "      <td>0.542541</td>\n",
       "      <td>208.851288</td>\n",
       "    </tr>\n",
       "    <tr>\n",
       "      <th>min</th>\n",
       "      <td>0.000000</td>\n",
       "      <td>0.000000</td>\n",
       "      <td>301.51000</td>\n",
       "      <td>0.440000</td>\n",
       "      <td>168.220000</td>\n",
       "    </tr>\n",
       "    <tr>\n",
       "      <th>25%</th>\n",
       "      <td>33985.750000</td>\n",
       "      <td>326.000000</td>\n",
       "      <td>672.66000</td>\n",
       "      <td>1.040000</td>\n",
       "      <td>401.660000</td>\n",
       "    </tr>\n",
       "    <tr>\n",
       "      <th>50%</th>\n",
       "      <td>67971.500000</td>\n",
       "      <td>659.000000</td>\n",
       "      <td>904.00000</td>\n",
       "      <td>1.460000</td>\n",
       "      <td>562.140000</td>\n",
       "    </tr>\n",
       "    <tr>\n",
       "      <th>75%</th>\n",
       "      <td>101957.250000</td>\n",
       "      <td>1011.000000</td>\n",
       "      <td>1222.24000</td>\n",
       "      <td>1.760000</td>\n",
       "      <td>676.530000</td>\n",
       "    </tr>\n",
       "    <tr>\n",
       "      <th>max</th>\n",
       "      <td>135943.000000</td>\n",
       "      <td>1339.000000</td>\n",
       "      <td>1754.17000</td>\n",
       "      <td>2.440000</td>\n",
       "      <td>937.770000</td>\n",
       "    </tr>\n",
       "  </tbody>\n",
       "</table>\n",
       "</div>"
      ],
      "text/plain": [
       "          travelCode       userCode         price           time  \\\n",
       "count  271888.000000  271888.000000  271888.00000  271888.000000   \n",
       "mean    67971.500000     667.505495     957.37503       1.421147   \n",
       "std     39243.724665     389.523127     362.31189       0.542541   \n",
       "min         0.000000       0.000000     301.51000       0.440000   \n",
       "25%     33985.750000     326.000000     672.66000       1.040000   \n",
       "50%     67971.500000     659.000000     904.00000       1.460000   \n",
       "75%    101957.250000    1011.000000    1222.24000       1.760000   \n",
       "max    135943.000000    1339.000000    1754.17000       2.440000   \n",
       "\n",
       "            distance  \n",
       "count  271888.000000  \n",
       "mean      546.955535  \n",
       "std       208.851288  \n",
       "min       168.220000  \n",
       "25%       401.660000  \n",
       "50%       562.140000  \n",
       "75%       676.530000  \n",
       "max       937.770000  "
      ]
     },
     "execution_count": 7,
     "metadata": {},
     "output_type": "execute_result"
    }
   ],
   "source": [
    "df.describe()"
   ]
  },
  {
   "cell_type": "markdown",
   "metadata": {},
   "source": [
    "### 열에 대한 정보를 알고 싶을 때는 (eg. unique values 가 몇 개인지) -> include='all'"
   ]
  },
  {
   "cell_type": "code",
   "execution_count": 8,
   "metadata": {},
   "outputs": [
    {
     "data": {
      "text/html": [
       "<div>\n",
       "<style scoped>\n",
       "    .dataframe tbody tr th:only-of-type {\n",
       "        vertical-align: middle;\n",
       "    }\n",
       "\n",
       "    .dataframe tbody tr th {\n",
       "        vertical-align: top;\n",
       "    }\n",
       "\n",
       "    .dataframe thead th {\n",
       "        text-align: right;\n",
       "    }\n",
       "</style>\n",
       "<table border=\"1\" class=\"dataframe\">\n",
       "  <thead>\n",
       "    <tr style=\"text-align: right;\">\n",
       "      <th></th>\n",
       "      <th>travelCode</th>\n",
       "      <th>userCode</th>\n",
       "      <th>from</th>\n",
       "      <th>to</th>\n",
       "      <th>flightType</th>\n",
       "      <th>price</th>\n",
       "      <th>time</th>\n",
       "      <th>distance</th>\n",
       "      <th>agency</th>\n",
       "      <th>date</th>\n",
       "    </tr>\n",
       "  </thead>\n",
       "  <tbody>\n",
       "    <tr>\n",
       "      <th>count</th>\n",
       "      <td>271888.000000</td>\n",
       "      <td>271888.000000</td>\n",
       "      <td>271888</td>\n",
       "      <td>271888</td>\n",
       "      <td>271888</td>\n",
       "      <td>271888.00000</td>\n",
       "      <td>271888.000000</td>\n",
       "      <td>271888.000000</td>\n",
       "      <td>271888</td>\n",
       "      <td>271888</td>\n",
       "    </tr>\n",
       "    <tr>\n",
       "      <th>unique</th>\n",
       "      <td>NaN</td>\n",
       "      <td>NaN</td>\n",
       "      <td>9</td>\n",
       "      <td>9</td>\n",
       "      <td>3</td>\n",
       "      <td>NaN</td>\n",
       "      <td>NaN</td>\n",
       "      <td>NaN</td>\n",
       "      <td>3</td>\n",
       "      <td>999</td>\n",
       "    </tr>\n",
       "    <tr>\n",
       "      <th>top</th>\n",
       "      <td>NaN</td>\n",
       "      <td>NaN</td>\n",
       "      <td>Florianopolis (SC)</td>\n",
       "      <td>Florianopolis (SC)</td>\n",
       "      <td>firstClass</td>\n",
       "      <td>NaN</td>\n",
       "      <td>NaN</td>\n",
       "      <td>NaN</td>\n",
       "      <td>Rainbow</td>\n",
       "      <td>09/26/2019</td>\n",
       "    </tr>\n",
       "    <tr>\n",
       "      <th>freq</th>\n",
       "      <td>NaN</td>\n",
       "      <td>NaN</td>\n",
       "      <td>57317</td>\n",
       "      <td>57317</td>\n",
       "      <td>116418</td>\n",
       "      <td>NaN</td>\n",
       "      <td>NaN</td>\n",
       "      <td>NaN</td>\n",
       "      <td>116752</td>\n",
       "      <td>1335</td>\n",
       "    </tr>\n",
       "    <tr>\n",
       "      <th>mean</th>\n",
       "      <td>67971.500000</td>\n",
       "      <td>667.505495</td>\n",
       "      <td>NaN</td>\n",
       "      <td>NaN</td>\n",
       "      <td>NaN</td>\n",
       "      <td>957.37503</td>\n",
       "      <td>1.421147</td>\n",
       "      <td>546.955535</td>\n",
       "      <td>NaN</td>\n",
       "      <td>NaN</td>\n",
       "    </tr>\n",
       "    <tr>\n",
       "      <th>std</th>\n",
       "      <td>39243.724665</td>\n",
       "      <td>389.523127</td>\n",
       "      <td>NaN</td>\n",
       "      <td>NaN</td>\n",
       "      <td>NaN</td>\n",
       "      <td>362.31189</td>\n",
       "      <td>0.542541</td>\n",
       "      <td>208.851288</td>\n",
       "      <td>NaN</td>\n",
       "      <td>NaN</td>\n",
       "    </tr>\n",
       "    <tr>\n",
       "      <th>min</th>\n",
       "      <td>0.000000</td>\n",
       "      <td>0.000000</td>\n",
       "      <td>NaN</td>\n",
       "      <td>NaN</td>\n",
       "      <td>NaN</td>\n",
       "      <td>301.51000</td>\n",
       "      <td>0.440000</td>\n",
       "      <td>168.220000</td>\n",
       "      <td>NaN</td>\n",
       "      <td>NaN</td>\n",
       "    </tr>\n",
       "    <tr>\n",
       "      <th>25%</th>\n",
       "      <td>33985.750000</td>\n",
       "      <td>326.000000</td>\n",
       "      <td>NaN</td>\n",
       "      <td>NaN</td>\n",
       "      <td>NaN</td>\n",
       "      <td>672.66000</td>\n",
       "      <td>1.040000</td>\n",
       "      <td>401.660000</td>\n",
       "      <td>NaN</td>\n",
       "      <td>NaN</td>\n",
       "    </tr>\n",
       "    <tr>\n",
       "      <th>50%</th>\n",
       "      <td>67971.500000</td>\n",
       "      <td>659.000000</td>\n",
       "      <td>NaN</td>\n",
       "      <td>NaN</td>\n",
       "      <td>NaN</td>\n",
       "      <td>904.00000</td>\n",
       "      <td>1.460000</td>\n",
       "      <td>562.140000</td>\n",
       "      <td>NaN</td>\n",
       "      <td>NaN</td>\n",
       "    </tr>\n",
       "    <tr>\n",
       "      <th>75%</th>\n",
       "      <td>101957.250000</td>\n",
       "      <td>1011.000000</td>\n",
       "      <td>NaN</td>\n",
       "      <td>NaN</td>\n",
       "      <td>NaN</td>\n",
       "      <td>1222.24000</td>\n",
       "      <td>1.760000</td>\n",
       "      <td>676.530000</td>\n",
       "      <td>NaN</td>\n",
       "      <td>NaN</td>\n",
       "    </tr>\n",
       "    <tr>\n",
       "      <th>max</th>\n",
       "      <td>135943.000000</td>\n",
       "      <td>1339.000000</td>\n",
       "      <td>NaN</td>\n",
       "      <td>NaN</td>\n",
       "      <td>NaN</td>\n",
       "      <td>1754.17000</td>\n",
       "      <td>2.440000</td>\n",
       "      <td>937.770000</td>\n",
       "      <td>NaN</td>\n",
       "      <td>NaN</td>\n",
       "    </tr>\n",
       "  </tbody>\n",
       "</table>\n",
       "</div>"
      ],
      "text/plain": [
       "           travelCode       userCode                from                  to  \\\n",
       "count   271888.000000  271888.000000              271888              271888   \n",
       "unique            NaN            NaN                   9                   9   \n",
       "top               NaN            NaN  Florianopolis (SC)  Florianopolis (SC)   \n",
       "freq              NaN            NaN               57317               57317   \n",
       "mean     67971.500000     667.505495                 NaN                 NaN   \n",
       "std      39243.724665     389.523127                 NaN                 NaN   \n",
       "min          0.000000       0.000000                 NaN                 NaN   \n",
       "25%      33985.750000     326.000000                 NaN                 NaN   \n",
       "50%      67971.500000     659.000000                 NaN                 NaN   \n",
       "75%     101957.250000    1011.000000                 NaN                 NaN   \n",
       "max     135943.000000    1339.000000                 NaN                 NaN   \n",
       "\n",
       "        flightType         price           time       distance   agency  \\\n",
       "count       271888  271888.00000  271888.000000  271888.000000   271888   \n",
       "unique           3           NaN            NaN            NaN        3   \n",
       "top     firstClass           NaN            NaN            NaN  Rainbow   \n",
       "freq        116418           NaN            NaN            NaN   116752   \n",
       "mean           NaN     957.37503       1.421147     546.955535      NaN   \n",
       "std            NaN     362.31189       0.542541     208.851288      NaN   \n",
       "min            NaN     301.51000       0.440000     168.220000      NaN   \n",
       "25%            NaN     672.66000       1.040000     401.660000      NaN   \n",
       "50%            NaN     904.00000       1.460000     562.140000      NaN   \n",
       "75%            NaN    1222.24000       1.760000     676.530000      NaN   \n",
       "max            NaN    1754.17000       2.440000     937.770000      NaN   \n",
       "\n",
       "              date  \n",
       "count       271888  \n",
       "unique         999  \n",
       "top     09/26/2019  \n",
       "freq          1335  \n",
       "mean           NaN  \n",
       "std            NaN  \n",
       "min            NaN  \n",
       "25%            NaN  \n",
       "50%            NaN  \n",
       "75%            NaN  \n",
       "max            NaN  "
      ]
     },
     "execution_count": 8,
     "metadata": {},
     "output_type": "execute_result"
    }
   ],
   "source": [
    "df.describe(include='all')"
   ]
  },
  {
   "cell_type": "markdown",
   "metadata": {},
   "source": [
    "## count 메소드 : 각 열의 갯수 출력"
   ]
  },
  {
   "cell_type": "code",
   "execution_count": 9,
   "metadata": {},
   "outputs": [
    {
     "data": {
      "text/plain": [
       "travelCode    271888\n",
       "userCode      271888\n",
       "from          271888\n",
       "to            271888\n",
       "flightType    271888\n",
       "price         271888\n",
       "time          271888\n",
       "distance      271888\n",
       "agency        271888\n",
       "date          271888\n",
       "dtype: int64"
      ]
     },
     "execution_count": 9,
     "metadata": {},
     "output_type": "execute_result"
    }
   ],
   "source": [
    "df.count()"
   ]
  },
  {
   "cell_type": "markdown",
   "metadata": {},
   "source": [
    "## value_counts 메소드 : 각 열의 unique values 갯수 출력"
   ]
  },
  {
   "cell_type": "code",
   "execution_count": 11,
   "metadata": {},
   "outputs": [
    {
     "data": {
      "text/plain": [
       "Rainbow        116752\n",
       "CloudFy        116378\n",
       "FlyingDrops     38758\n",
       "Name: agency, dtype: int64"
      ]
     },
     "execution_count": 11,
     "metadata": {},
     "output_type": "execute_result"
    }
   ],
   "source": [
    "df['agency'].value_counts()"
   ]
  },
  {
   "cell_type": "markdown",
   "metadata": {},
   "source": [
    "## std 메소드 : 표준편차 출력"
   ]
  },
  {
   "cell_type": "code",
   "execution_count": 12,
   "metadata": {},
   "outputs": [
    {
     "data": {
      "text/plain": [
       "208.8512881231683"
      ]
     },
     "execution_count": 12,
     "metadata": {},
     "output_type": "execute_result"
    }
   ],
   "source": [
    "df['distance'].std()"
   ]
  },
  {
   "cell_type": "code",
   "execution_count": 13,
   "metadata": {},
   "outputs": [
    {
     "data": {
      "text/plain": [
       "362.3118899565695"
      ]
     },
     "execution_count": 13,
     "metadata": {},
     "output_type": "execute_result"
    }
   ],
   "source": [
    "df['price'].std()"
   ]
  },
  {
   "cell_type": "markdown",
   "metadata": {},
   "source": [
    "## corr 메소드 : 상관계수 출력 df[열 이름의 리스트].corr() \n"
   ]
  },
  {
   "cell_type": "code",
   "execution_count": 14,
   "metadata": {},
   "outputs": [
    {
     "data": {
      "text/html": [
       "<div>\n",
       "<style scoped>\n",
       "    .dataframe tbody tr th:only-of-type {\n",
       "        vertical-align: middle;\n",
       "    }\n",
       "\n",
       "    .dataframe tbody tr th {\n",
       "        vertical-align: top;\n",
       "    }\n",
       "\n",
       "    .dataframe thead th {\n",
       "        text-align: right;\n",
       "    }\n",
       "</style>\n",
       "<table border=\"1\" class=\"dataframe\">\n",
       "  <thead>\n",
       "    <tr style=\"text-align: right;\">\n",
       "      <th></th>\n",
       "      <th>distance</th>\n",
       "      <th>price</th>\n",
       "    </tr>\n",
       "  </thead>\n",
       "  <tbody>\n",
       "    <tr>\n",
       "      <th>distance</th>\n",
       "      <td>1.000000</td>\n",
       "      <td>0.641915</td>\n",
       "    </tr>\n",
       "    <tr>\n",
       "      <th>price</th>\n",
       "      <td>0.641915</td>\n",
       "      <td>1.000000</td>\n",
       "    </tr>\n",
       "  </tbody>\n",
       "</table>\n",
       "</div>"
      ],
      "text/plain": [
       "          distance     price\n",
       "distance  1.000000  0.641915\n",
       "price     0.641915  1.000000"
      ]
     },
     "execution_count": 14,
     "metadata": {},
     "output_type": "execute_result"
    }
   ],
   "source": [
    "df[['distance','price']].corr()"
   ]
  },
  {
   "cell_type": "markdown",
   "metadata": {},
   "source": [
    "# 판다스는 matplotlib 의 일부 기능을 내장하고 있다고 한다 띠용"
   ]
  },
  {
   "cell_type": "markdown",
   "metadata": {},
   "source": [
    "## 하지만 seaborn 을 쓸껀데 굳이..? pandas 로 ? 라는 생각이 들어서 공부하지 않았다 =_="
   ]
  }
 ],
 "metadata": {
  "kernelspec": {
   "display_name": "Python 3",
   "language": "python",
   "name": "python3"
  },
  "language_info": {
   "codemirror_mode": {
    "name": "ipython",
    "version": 3
   },
   "file_extension": ".py",
   "mimetype": "text/x-python",
   "name": "python",
   "nbconvert_exporter": "python",
   "pygments_lexer": "ipython3",
   "version": "3.8.3"
  }
 },
 "nbformat": 4,
 "nbformat_minor": 4
}
